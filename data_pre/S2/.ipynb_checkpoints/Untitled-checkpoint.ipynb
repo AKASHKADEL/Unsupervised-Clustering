{
 "cells": [
  {
   "cell_type": "code",
   "execution_count": 1,
   "metadata": {},
   "outputs": [],
   "source": [
    "import numpy as np\n",
    "import pandas as pd"
   ]
  },
  {
   "cell_type": "code",
   "execution_count": 9,
   "metadata": {},
   "outputs": [
    {
     "data": {
      "text/plain": [
       "(array([[112., 111., 111., ..., 176., 180., 180.],\n",
       "        [112., 112., 112., ..., 176., 176., 171.],\n",
       "        [112., 112., 112., ..., 171., 176., 176.],\n",
       "        ...,\n",
       "        [127., 131., 131., ..., 138., 131., 131.],\n",
       "        [127., 127., 131., ...,  66., 135., 131.],\n",
       "        [127., 127., 127., ...,  65.,  62., 123.]]),\n",
       " array([[-1.27881800e-19, -2.21181553e-13,  3.62371715e-08, ...,\n",
       "         -4.17801380e+00, -1.49978518e+00,  9.84476693e-03],\n",
       "        [-1.91029831e-11,  1.35607106e-15, -2.65631073e-10, ...,\n",
       "         -2.26034451e+00, -6.96977973e-02, -1.90727622e-03],\n",
       "        [ 8.82364724e-15, -7.80930036e-20, -3.47510742e-10, ...,\n",
       "         -1.02129879e+01, -9.64937592e+00, -2.99491978e+00],\n",
       "        ...,\n",
       "        [-1.59894820e-10,  3.92446680e-07, -3.14436164e-07, ...,\n",
       "         -9.34720993e+00, -7.97308207e+00, -3.94418687e-02],\n",
       "        [-1.17351151e-09,  2.66046357e-07, -5.19092055e-06, ...,\n",
       "         -9.20292282e+00, -9.00942993e+00, -8.56213188e+00],\n",
       "        [ 3.01278874e-07,  1.37985480e-04, -8.29209966e-05, ...,\n",
       "         -1.04060018e+00, -8.87488079e+00, -8.93334770e+00]]),\n",
       " (30, 36, 64),\n",
       " (30, 36, 64))"
      ]
     },
     "execution_count": 9,
     "metadata": {},
     "output_type": "execute_result"
    }
   ],
   "source": [
    "f_opti = np.load('S2_Cheese_C1_30/flow_x_020.npy')\n",
    "f_opti.shape\n",
    "\n",
    "f_raw = np.load('S2_Cheese_C1_30_frame/frame_020.npy')\n",
    "f_raw[0], f_opti[0], f_opti.shape, f_raw.shape"
   ]
  }
 ],
 "metadata": {
  "kernelspec": {
   "display_name": "Python 3",
   "language": "python",
   "name": "python3"
  },
  "language_info": {
   "codemirror_mode": {
    "name": "ipython",
    "version": 3
   },
   "file_extension": ".py",
   "mimetype": "text/x-python",
   "name": "python",
   "nbconvert_exporter": "python",
   "pygments_lexer": "ipython3",
   "version": "3.6.8"
  }
 },
 "nbformat": 4,
 "nbformat_minor": 2
}
